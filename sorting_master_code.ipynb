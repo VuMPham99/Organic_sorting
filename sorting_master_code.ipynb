{
 "cells": [
  {
   "cell_type": "code",
   "execution_count": 1,
   "metadata": {},
   "outputs": [],
   "source": [
    "import pandas as pd\n",
    "import xlrd\n",
    "import xlsxwriter"
   ]
  },
  {
   "cell_type": "code",
   "execution_count": 2,
   "metadata": {},
   "outputs": [],
   "source": [
    "wb = xlrd.open_workbook('firesolvent.xlsx')\n",
    "workbook1 = xlsxwriter.Workbook('CHO.xlsx')\n",
    "workbook2 = xlsxwriter.Workbook('Peak.xlsx')\n",
    "workbook3 = xlsxwriter.Workbook('Non-organics.xlsx')\n",
    "workbook4 = xlsxwriter.Workbook('CH.xlsx')\n",
    "sheet = wb.sheet_by_index(15)\n",
    "worksheet1 = workbook1.add_worksheet()\n",
    "worksheet2 = workbook2.add_worksheet()\n",
    "worksheet3 = workbook3.add_worksheet()\n",
    "worksheet4 = workbook4.add_worksheet()"
   ]
  },
  {
   "cell_type": "code",
   "execution_count": 3,
   "metadata": {},
   "outputs": [],
   "source": [
    "def check_element(formula, elements):\n",
    "    for e in elements:\n",
    "        if e in formula:\n",
    "            return 1\n",
    "    return 0"
   ]
  },
  {
   "cell_type": "code",
   "execution_count": 4,
   "metadata": {},
   "outputs": [],
   "source": [
    "list = []\n",
    "j = 0\n",
    "remove_list = [\"Cl\", \"Mn\", \"Si\", \"Br\", 'S', 'N', 'F', 'D', 'P', \"Ar\", \"I\", \"Ag\", \"Hg\", \"Fe\",\"Ge\",\"B\"]\n",
    "tag = [\"Peak #\",\"Name\",\"Formula\",\"Tailing Factor\",\"Sample\",\"Base Mass\",\"Quant Masses\",\"Height\",\"Area\",\"Peak S/N\",\"Quant S/N\",\"R.T. (s)\",\"FWHH (s)\",\"Similarity\",\"Mass Delta (Da)\",\"Conv. Conc.\",\"1st Dimension Time (s)\",\"Retention Index\",\"Expected Ion m/z\"]\n",
    "for i in tag:\n",
    "    worksheet1.write(0,j,i)\n",
    "    worksheet2.write(0,j,i)\n",
    "    worksheet3.write(0,j,i)\n",
    "    worksheet4.write(0,j,i)\n",
    "    j += 1"
   ]
  },
  {
   "cell_type": "code",
   "execution_count": 5,
   "metadata": {},
   "outputs": [],
   "source": [
    "row = 1\n",
    "col = 0\n",
    "for i in range(1,sheet.nrows):\n",
    "    if sheet.cell_value(i,2) == '':\n",
    "        continue\n",
    "    if 'O' not in sheet.cell_value(i,2):\n",
    "        continue\n",
    "    check_value = check_element(sheet.cell_value(i,2),remove_list)\n",
    "    if check_value == 0:\n",
    "        for value in sheet.row_values(i):\n",
    "            if value == sheet.row_values(i)[0]:\n",
    "                worksheet1.write(row,col,row)\n",
    "            else:\n",
    "                worksheet1.write(row,col,value)\n",
    "            col += 1\n",
    "    else:\n",
    "        continue\n",
    "    col = 0\n",
    "    row += 1\n",
    "workbook1.close()"
   ]
  },
  {
   "cell_type": "code",
   "execution_count": 6,
   "metadata": {},
   "outputs": [],
   "source": [
    "row = 1\n",
    "col = 0\n",
    "for i in range(1,sheet.nrows):\n",
    "    if sheet.cell_value(i,2) == '':\n",
    "        for value in sheet.row_values(i):\n",
    "            if value == sheet.row_values(i)[0]:\n",
    "                worksheet2.write(row,col,row)\n",
    "            else:\n",
    "                worksheet2.write(row,col,value)\n",
    "            col += 1\n",
    "    else:\n",
    "        continue\n",
    "    col = 0\n",
    "    row += 1\n",
    "workbook2.close()"
   ]
  },
  {
   "cell_type": "code",
   "execution_count": 7,
   "metadata": {},
   "outputs": [],
   "source": [
    "row = 1\n",
    "col = 0\n",
    "for i in range(2,sheet.nrows):\n",
    "    check_value = check_element(sheet.cell_value(i,2),remove_list)\n",
    "    if check_value == 1:\n",
    "        for value in sheet.row_values(i):\n",
    "            if value == sheet.row_values(i)[0]:\n",
    "                worksheet3.write(row,col,row)\n",
    "            else:\n",
    "                worksheet3.write(row,col,value)\n",
    "            col += 1\n",
    "    else:\n",
    "        continue\n",
    "    col = 0\n",
    "    row += 1\n",
    "workbook3.close()"
   ]
  },
  {
   "cell_type": "code",
   "execution_count": 8,
   "metadata": {},
   "outputs": [],
   "source": [
    "row = 1\n",
    "col = 0\n",
    "for i in range(1,sheet.nrows):\n",
    "    if sheet.cell_value(i,2) == '':\n",
    "        continue\n",
    "    if 'O' in sheet.cell_value(i,2):\n",
    "        continue\n",
    "    else:\n",
    "        check_value = check_element(sheet.cell_value(i,2),remove_list)\n",
    "        if check_value == 1:\n",
    "            continue\n",
    "        else:\n",
    "            for value in sheet.row_values(i):\n",
    "                if value == sheet.row_values(i)[0]:\n",
    "                    worksheet4.write(row,col,row)\n",
    "                else:\n",
    "                    worksheet4.write(row,col,value)\n",
    "                col += 1\n",
    "        col = 0\n",
    "        row += 1\n",
    "workbook4.close()"
   ]
  }
 ],
 "metadata": {
  "kernelspec": {
   "display_name": "Python 3",
   "language": "python",
   "name": "python3"
  },
  "language_info": {
   "codemirror_mode": {
    "name": "ipython",
    "version": 3
   },
   "file_extension": ".py",
   "mimetype": "text/x-python",
   "name": "python",
   "nbconvert_exporter": "python",
   "pygments_lexer": "ipython3",
   "version": "3.8.8"
  }
 },
 "nbformat": 4,
 "nbformat_minor": 4
}
